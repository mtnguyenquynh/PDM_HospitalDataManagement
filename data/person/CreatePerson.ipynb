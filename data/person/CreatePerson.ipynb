{
  "nbformat": 4,
  "nbformat_minor": 0,
  "metadata": {
    "colab": {
      "name": "Untitled2.ipynb",
      "provenance": []
    },
    "kernelspec": {
      "name": "python3",
      "display_name": "Python 3"
    },
    "language_info": {
      "name": "python"
    }
  },
  "cells": [
    {
      "cell_type": "code",
      "execution_count": 1,
      "metadata": {
        "colab": {
          "base_uri": "https://localhost:8080/"
        },
        "id": "d5t-b9ZV6eZb",
        "outputId": "bda3c137-1ee7-4b55-fe26-d0f6ab4b8203"
      },
      "outputs": [
        {
          "output_type": "stream",
          "name": "stdout",
          "text": [
            "Requirement already satisfied: Faker in /usr/local/lib/python3.7/dist-packages (13.4.0)\n",
            "Requirement already satisfied: python-dateutil>=2.4 in /usr/local/lib/python3.7/dist-packages (from Faker) (2.8.2)\n",
            "Requirement already satisfied: typing-extensions>=3.10.0.2 in /usr/local/lib/python3.7/dist-packages (from Faker) (4.1.1)\n",
            "Requirement already satisfied: six>=1.5 in /usr/local/lib/python3.7/dist-packages (from python-dateutil>=2.4->Faker) (1.15.0)\n"
          ]
        }
      ],
      "source": [
        "!pip install Faker"
      ]
    },
    {
      "cell_type": "code",
      "source": [
        "import numpy as np\n",
        "import pandas as pd\n",
        "from faker import Faker\n",
        "from typing import Union, List\n",
        "from tqdm import tqdm"
      ],
      "metadata": {
        "id": "67b2AfXd6sI9"
      },
      "execution_count": 2,
      "outputs": []
    },
    {
      "cell_type": "code",
      "source": [
        "def CREATE_DATA(locale: Union[str, List[str]] = 'en-US', RUNS: int = 100000, \n",
        "                ignore_multi_value: bool = True):\n",
        "  if isinstance(locale, str):\n",
        "    locale = [locale]\n",
        "  else:\n",
        "    locale = list(locale)\n",
        "  MyFaker: Faker = Faker(locale)\n",
        "\n",
        "  testAttempt = MyFaker.profile()\n",
        "  KEYS = [*testAttempt]\n",
        "  if ignore_multi_value:\n",
        "      for key, value in testAttempt.items():\n",
        "        if isinstance(value, (list, tuple, dict)):\n",
        "          try:\n",
        "            KEYS.remove(key)\n",
        "          except ValueError:\n",
        "            pass \n",
        "  KEYS.sort()\n",
        "  FullKeys = {k: None for k in KEYS}\n",
        "\n",
        "  HASH_KEYS = {KEY.upper(): [] for KEY in KEYS}\n",
        "  for _ in tqdm(range(RUNS)):\n",
        "    result = MyFaker.profile(FullKeys)\n",
        "    for key, value in result.items():\n",
        "      HASH_KEYS[key.upper()].append(value if ignore_multi_value else str(value))\n",
        "\n",
        "  return pd.DataFrame(HASH_KEYS, index=None)\n"
      ],
      "metadata": {
        "id": "hmx2Y0-A6-q8"
      },
      "execution_count": 3,
      "outputs": []
    },
    {
      "cell_type": "code",
      "source": [
        "df = CREATE_DATA(locale=['en-US', 'en-PH'], RUNS=100000, ignore_multi_value=True)\n",
        "print(df.head())\n",
        "df.to_csv(f'patient-0-100k.csv', index=False)"
      ],
      "metadata": {
        "colab": {
          "base_uri": "https://localhost:8080/"
        },
        "id": "uhGJa3d4_vsq",
        "outputId": "309d2348-b966-41a1-d7e1-2b2b90f72990"
      },
      "execution_count": 4,
      "outputs": [
        {
          "output_type": "stream",
          "name": "stderr",
          "text": [
            "100%|██████████| 100000/100000 [02:29<00:00, 670.09it/s]\n"
          ]
        },
        {
          "output_type": "stream",
          "name": "stdout",
          "text": [
            "                                             address   birthdate blood_group  \\\n",
            "0              35325 Kyle Mill\\nPort Blake, KS 94721  2000-06-03         AB+   \n",
            "1  4763 Planet Road, Crane Cove 7, Ubay, 2619 Qui...  1911-08-21          B-   \n",
            "2                   Unit 7994 Box 3875\\nDPO AP 57124  1947-08-20          A-   \n",
            "3  B23 L92 Amethyst Extension, Sicaba Village, Ma...  1952-06-10          B+   \n",
            "4  B16 L85 Libra Boulevard, Banaba Cove Phase 7, ...  2019-02-16          A+   \n",
            "\n",
            "                           company                           job  \\\n",
            "0                      Cook-Nelson       Water quality scientist   \n",
            "1  Global Technologies Corporation          Commissioning editor   \n",
            "2                       Hanson PLC   Civil Service administrator   \n",
            "3             Sovereign Foods Inc.            Veterinary surgeon   \n",
            "4               Mega Services Inc.  Education officer, community   \n",
            "\n",
            "                              mail              name  \\\n",
            "0         lopezelizabeth@gmail.com        Sarah Berg   \n",
            "1       stevensyvonne@zohomail.com   Michelle Valdez   \n",
            "2  villegaschristopher@hotmail.com  Terrance Salazar   \n",
            "3          garciamatthew@yahoo.com     Connie Miller   \n",
            "4             yrodriguez@yahoo.com      Andrea Clark   \n",
            "\n",
            "                                           residence sex             ssn  \\\n",
            "0  10819 Ryan Highway Apt. 205\\nPort Elizabethvie...   F     029-91-8731   \n",
            "1  B09 L61 Planet Street, Mustard Homes Phase 1, ...   F  8606-0601262-9   \n",
            "2  244 Ronnie Freeway Suite 135\\nBrianview, AK 22854   M     649-36-5823   \n",
            "3  2852 Hercules Extension, Tarangnan, 8302 Lanao...   F  0464-1974224-5   \n",
            "4             3867 B Camia Drive, Bauan, 3983 Tarlac   F  7818-5603614-7   \n",
            "\n",
            "    username  \n",
            "0    bbowman  \n",
            "1  eferguson  \n",
            "2      rchen  \n",
            "3     sberry  \n",
            "4   daniel70  \n"
          ]
        }
      ]
    },
    {
      "cell_type": "code",
      "source": [
        "df = CREATE_DATA(locale=['en-US', 'en-PH'], RUNS=100000, ignore_multi_value=False)\n",
        "print(df.head())\n",
        "df.to_csv(f'patient-0-100k-no.csv', index=False)"
      ],
      "metadata": {
        "colab": {
          "base_uri": "https://localhost:8080/"
        },
        "id": "cYNGiK2hKPQR",
        "outputId": "314c3838-3b51-4124-8407-0b798f276486"
      },
      "execution_count": 5,
      "outputs": [
        {
          "output_type": "stream",
          "name": "stderr",
          "text": [
            "100%|██████████| 100000/100000 [02:31<00:00, 661.66it/s]\n"
          ]
        },
        {
          "output_type": "stream",
          "name": "stdout",
          "text": [
            "                                             address   birthdate blood_group  \\\n",
            "0  Block 22 Lot 08 67th Boulevard, Andromeda Cove...  2000-04-18          A-   \n",
            "1  3813 Tommy Wells Suite 731\\nWest Angelachester...  2020-04-25          A-   \n",
            "2  009 Alexis Mills Suite 943\\nWest Annaside, IN ...  1951-11-24          O-   \n",
            "3       9198 Margaret Valleys\\nRussellland, NY 87295  1939-06-12          O+   \n",
            "4  5226 Sagittarius Drive, Berg Subdivision Phase...  1932-02-22          A+   \n",
            "\n",
            "                          company  \\\n",
            "0              BKJ Resources Inc.   \n",
            "1       Jordan, Nelson and Torres   \n",
            "2                  Lawrence-Curry   \n",
            "3         Cook, Krause and Nelson   \n",
            "4  Gonzales Morning Hotel Limited   \n",
            "\n",
            "                                   current_location                     job  \\\n",
            "0      (Decimal('81.159606'), Decimal('82.285064'))  Psychologist, clinical   \n",
            "1    (Decimal('72.7985085'), Decimal('102.894028'))       Building surveyor   \n",
            "2  (Decimal('-38.3896915'), Decimal('-131.749954'))            Town planner   \n",
            "3   (Decimal('-52.0579995'), Decimal('-21.551177'))          Engineer, site   \n",
            "4     (Decimal('42.980810'), Decimal('-35.733507'))   Accounting technician   \n",
            "\n",
            "                          mail             name  \\\n",
            "0        tonyanorris@yahoo.com   Maurice Vargas   \n",
            "1              nkemp@gmail.com      Gina Turner   \n",
            "2    matthewsdavid@hotmail.com     Rebecca Cook   \n",
            "3  kimberlyhenderson@gmail.com     Tristan Byrd   \n",
            "4              bkent@gmail.com  Matthew Manning   \n",
            "\n",
            "                                           residence sex             ssn  \\\n",
            "0  B25 L81 38th Highway, Tran Homes 2, Larena, 44...   M  8605-0256387-5   \n",
            "1                   Unit 5732 Box 1279\\nDPO AA 32286   F     132-25-7859   \n",
            "2  189 Jacobson Stravenue Suite 706\\nJavierville,...   F     418-24-4950   \n",
            "3  429 Jones Streets Suite 423\\nNew Joshua, AZ 50167   M     785-29-9987   \n",
            "4  2846 Bakawan Road, Malugay Subdivision, Pagudp...   M  5170-0489369-0   \n",
            "\n",
            "       username                                            website  \n",
            "0    vegatamara  ['http://martinezking.com/', 'http://www.uydo....  \n",
            "1  matthewjones  ['https://www.hill.com/', 'http://www.watson-c...  \n",
            "2        slewis  ['https://www.mason-willis.com/', 'http://bake...  \n",
            "3     dylanwood                           ['http://mcdaniel.biz/']  \n",
            "4     pmckinney  ['http://yddevelopment.org/', 'http://fafinanc...  \n"
          ]
        }
      ]
    }
  ]
}